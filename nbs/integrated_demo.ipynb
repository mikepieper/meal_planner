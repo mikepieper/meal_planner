{
  "cells": [
    {
      "cell_type": "raw",
      "metadata": {
        "vscode": {
          "languageId": "raw"
        }
      },
      "source": [
        "# Integrated Meal Planning Agent Demo\n",
        "\n",
        "This notebook demonstrates the complete meal planning system with:\n",
        "- Conversational ReAct agent\n",
        "- Nutrition optimization using hill climbing\n",
        "- Food database integration\n",
        "- Multi-turn conversations\n",
        "- Tool usage examples\n",
        "\n",
        "## Setup\n"
      ]
    },
    {
      "cell_type": "code",
      "execution_count": null,
      "metadata": {},
      "outputs": [],
      "source": [
        "import sys\n",
        "sys.path.append('..')\n",
        "\n",
        "from dotenv import load_dotenv\n",
        "load_dotenv(dotenv_path=\"../../../.env\", override=True)\n",
        "\n",
        "import os\n",
        "os.environ[\"LANGCHAIN_TRACING_V2\"] = \"true\"\n",
        "os.environ[\"LANGCHAIN_PROJECT\"] = \"meal-planner-demo\"\n",
        "\n",
        "print(\"✅ Environment loaded\")\n"
      ]
    },
    {
      "cell_type": "code",
      "execution_count": null,
      "metadata": {},
      "outputs": [],
      "source": [
        "from main_agent import create_meal_planning_agent, MealPlannerState\n",
        "from nutrition_optimizer import MealPlan\n",
        "from food_database import get_food_database\n",
        "from langchain_core.messages import HumanMessage\n",
        "from IPython.display import display, Markdown\n",
        "import json\n",
        "\n",
        "print(\"✅ Imports successful\")\n"
      ]
    },
    {
      "cell_type": "raw",
      "metadata": {
        "vscode": {
          "languageId": "raw"
        }
      },
      "source": [
        "## 1. Initialize the Agent and Helper Functions\n"
      ]
    },
    {
      "cell_type": "code",
      "execution_count": null,
      "metadata": {},
      "outputs": [],
      "source": [
        "# Create the agent\n",
        "agent = create_meal_planning_agent()\n",
        "\n",
        "# Initialize state function\n",
        "def create_initial_state():\n",
        "    return {\n",
        "        \"messages\": [],\n",
        "        \"current_meal_plan\": MealPlan(),\n",
        "        \"user_profile\": {},\n",
        "        \"food_database\": get_food_database(),\n",
        "        \"conversation_phase\": \"gathering_info\",\n",
        "        \"optimization_history\": []\n",
        "    }\n",
        "\n",
        "# Helper function for conversation\n",
        "def chat_with_agent(message: str, state: dict, config: dict, show_full_response=False):\n",
        "    print(f\"👤 **User:** {message}\\n\")\n",
        "    \n",
        "    # Add user message\n",
        "    state[\"messages\"].append(HumanMessage(content=message))\n",
        "    \n",
        "    # Get agent response\n",
        "    response = agent.invoke(state, config)\n",
        "    agent_message = response[\"messages\"][-1].content\n",
        "    \n",
        "    if show_full_response:\n",
        "        print(f\"🤖 **Agent:** {agent_message}\\n\")\n",
        "    else:\n",
        "        # Show truncated version\n",
        "        preview = agent_message[:300] + \"...\" if len(agent_message) > 300 else agent_message\n",
        "        print(f\"🤖 **Agent:** {preview}\\n\")\n",
        "    \n",
        "    print(\"-\" * 80)\n",
        "    return response\n",
        "\n",
        "print(\"✅ Agent initialized\")\n"
      ]
    },
    {
      "cell_type": "raw",
      "metadata": {
        "vscode": {
          "languageId": "raw"
        }
      },
      "source": [
        "## 2. Scenario Demo: Vegetarian High-Protein Meal Planning\n",
        "\n",
        "Let's create a complete meal plan for someone who is vegetarian and trying to build muscle.\n"
      ]
    },
    {
      "cell_type": "code",
      "execution_count": null,
      "metadata": {},
      "outputs": [],
      "source": [
        "# Start a new conversation\n",
        "state = create_initial_state()\n",
        "config = {\"configurable\": {\"thread_id\": \"vegetarian_demo\"}}\n",
        "\n",
        "print(\"🎯 **Scenario: Vegetarian High-Protein Meal Planning**\\n\")\n",
        "\n",
        "# Turn 1: Introduction and requirements\n",
        "state = chat_with_agent(\n",
        "    \"Hi! I'm a vegetarian trying to build muscle. I need about 2200 calories per day with high protein. Can you help me create a meal plan?\",\n",
        "    state, config\n",
        ")\n"
      ]
    },
    {
      "cell_type": "code",
      "execution_count": null,
      "metadata": {},
      "outputs": [],
      "source": [
        "# Turn 2: Set nutrition goals\n",
        "state = chat_with_agent(\n",
        "    \"Yes, please set my nutrition goals for 2200 calories with a high-protein vegetarian focus.\",\n",
        "    state, config, show_full_response=True\n",
        ")\n"
      ]
    },
    {
      "cell_type": "code",
      "execution_count": null,
      "metadata": {},
      "outputs": [],
      "source": [
        "# Turn 3: Request breakfast suggestions\n",
        "state = chat_with_agent(\n",
        "    \"Great! Now can you suggest some high-protein vegetarian breakfast options?\",\n",
        "    state, config, show_full_response=True\n",
        ")\n"
      ]
    },
    {
      "cell_type": "raw",
      "metadata": {
        "vscode": {
          "languageId": "raw"
        }
      },
      "source": [
        "## 3. Direct Nutrition Optimization Demo\n",
        "\n",
        "Let's demonstrate the hill climbing optimization algorithm directly.\n"
      ]
    },
    {
      "cell_type": "code",
      "execution_count": null,
      "metadata": {},
      "outputs": [],
      "source": [
        "from nutrition_optimizer import (\n",
        "    NutritionOptimizer, ConstraintSet, NutrientConstraint,\n",
        "    Meal, FoodItem\n",
        ")\n",
        "\n",
        "# Create a sample meal to optimize\n",
        "sample_meal = Meal(\n",
        "    id=\"breakfast1\",\n",
        "    name=\"Morning Protein Bowl\",\n",
        "    meal_type=\"breakfast\",\n",
        "    foods={\n",
        "        \"greek_yogurt\": 1,\n",
        "        \"berries\": 0.5,\n",
        "        \"almonds\": 0.25\n",
        "    }\n",
        ")\n",
        "\n",
        "# Define nutrition goals for breakfast\n",
        "breakfast_profile = ConstraintSet(\n",
        "    calories=NutrientConstraint(minimum=600, target=733, maximum=800),\n",
        "    protein=NutrientConstraint(minimum=35, target=40, maximum=45),\n",
        "    carbohydrates=NutrientConstraint(minimum=70, target=85, maximum=100),\n",
        "    fat=NutrientConstraint(minimum=20, target=25, maximum=30)\n",
        ")\n",
        "\n",
        "# Create optimizer\n",
        "food_db = get_food_database()\n",
        "optimizer = NutritionOptimizer(food_db, breakfast_profile)\n",
        "\n",
        "# Show initial nutrition\n",
        "initial_nutrition = sample_meal.calculate_nutrition(food_db)\n",
        "print(\"📊 **Initial Meal Nutrition:**\")\n",
        "for nutrient, value in initial_nutrition.items():\n",
        "    target = getattr(breakfast_profile, nutrient).target\n",
        "    print(f\"- {nutrient.capitalize()}: {value:.1f}g (target: {target:.1f}g)\")\n",
        "\n",
        "initial_fitness = optimizer.calculate_fitness(MealPlan(breakfast=sample_meal))\n",
        "print(f\"\\n🎯 **Initial Fitness Score:** {initial_fitness:.2f} (lower is better)\")\n"
      ]
    },
    {
      "cell_type": "code",
      "execution_count": null,
      "metadata": {},
      "outputs": [],
      "source": [
        "# Optimize the meal\n",
        "print(\"🔄 **Optimizing meal...** (this may take a moment)\\n\")\n",
        "\n",
        "optimized_meal, fitness = optimizer.hill_climb_meal(sample_meal, max_iterations=100)\n",
        "\n",
        "# Show optimized nutrition\n",
        "optimized_nutrition = optimized_meal.calculate_nutrition(food_db)\n",
        "print(\"📊 **Optimized Meal Nutrition:**\")\n",
        "for nutrient, value in optimized_nutrition.items():\n",
        "    target = getattr(breakfast_profile, nutrient).target\n",
        "    improvement = abs(value - target) - abs(initial_nutrition[nutrient] - target)\n",
        "    status = \"✅ Better\" if improvement < 0 else \"➡️ Similar\" if abs(improvement) < 1 else \"❌ Worse\"\n",
        "    print(f\"- {nutrient.capitalize()}: {value:.1f}g (target: {target:.1f}g) {status}\")\n",
        "\n",
        "print(f\"\\n🎯 **Optimized Fitness Score:** {fitness:.2f}\")\n",
        "print(f\"📈 **Improvement:** {initial_fitness - fitness:.2f}\")\n",
        "\n",
        "# Show changes\n",
        "print(\"\\n🔧 **Recommended Changes:**\")\n",
        "suggestions = optimizer.suggest_meal_improvement(sample_meal, \"breakfast\")\n",
        "if suggestions[\"changes\"]:\n",
        "    for change in suggestions[\"changes\"]:\n",
        "        print(f\"- {change}\")\n",
        "else:\n",
        "    print(\"- No significant changes recommended\")\n"
      ]
    },
    {
      "cell_type": "raw",
      "metadata": {
        "vscode": {
          "languageId": "raw"
        }
      },
      "source": [
        "## 4. Summary and Experimentation\n",
        "\n",
        "This demo shows how the meal planning agent:\n",
        "1. Conducts natural conversations to understand user needs\n",
        "2. Uses tools to set nutrition goals and generate meal suggestions  \n",
        "3. Optimizes meals to meet nutritional targets using hill climbing\n",
        "4. Maintains conversation context throughout multi-turn interactions\n",
        "\n",
        "### Try Your Own Scenarios:\n",
        "- Modify the conversation messages above\n",
        "- Create new dietary scenarios (keto, paleo, etc.)\n",
        "- Experiment with different nutrition targets\n",
        "- Test the optimization with different foods\n",
        "\n",
        "The system is ready for experimentation with any dietary goals and preferences!\n"
      ]
    },
    {
      "cell_type": "code",
      "execution_count": null,
      "metadata": {},
      "outputs": [],
      "source": []
    }
  ],
  "metadata": {
    "language_info": {
      "name": "python"
    }
  },
  "nbformat": 4,
  "nbformat_minor": 2
}
