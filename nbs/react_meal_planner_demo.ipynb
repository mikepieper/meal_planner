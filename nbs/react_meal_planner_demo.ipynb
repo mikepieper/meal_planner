{
 "cells": [
  {
   "cell_type": "markdown",
   "metadata": {},
   "source": [
    "# ReAct Meal Planning Agent Design\n",
    "\n",
    "This notebook demonstrates a more general, flexible meal planning agent using the ReAct pattern."
   ]
  },
  {
   "cell_type": "code",
   "execution_count": null,
   "metadata": {},
   "outputs": [],
   "source": [
    "from dotenv import load_dotenv\n",
    "load_dotenv(dotenv_path=\"../../../.env\", override=True)"
   ]
  },
  {
   "cell_type": "markdown",
   "metadata": {},
   "source": [
    "## High-Level Design Overview\n",
    "\n",
    "The new design focuses on:\n",
    "1. **Flexibility**: ReAct agent can handle any type of meal planning request\n",
    "2. **Conversational**: Natural back-and-forth interaction\n",
    "3. **LLM-First**: Lean heavily on LLM for reasoning and content generation\n",
    "4. **Modular**: Subgraphs for complex operations like meal generation"
   ]
  },
  {
   "cell_type": "code",
   "execution_count": null,
   "metadata": {},
   "outputs": [],
   "source": [
    "# Import and visualize the agent structure\n",
    "import sys\n",
    "sys.path.append('../')\n",
    "\n",
    "from react_agent import create_react_agent, create_meal_suggestion_subgraph\n",
    "from IPython.display import Image, display\n",
    "\n",
    "# Create and visualize the main agent\n",
    "agent = create_react_agent()\n",
    "display(Image(agent.get_graph().draw_mermaid_png()))"
   ]
  },
  {
   "cell_type": "code",
   "execution_count": null,
   "metadata": {},
   "outputs": [],
   "source": [
    "# Visualize the suggestion subgraph\n",
    "suggestion_graph = create_meal_suggestion_subgraph()\n",
    "display(Image(suggestion_graph.get_graph().draw_mermaid_png()))"
   ]
  },
  {
   "cell_type": "markdown",
   "metadata": {},
   "source": [
    "## Key Design Decisions\n",
    "\n",
    "### 1. ReAct Pattern\n",
    "- Agent reasons about what to do next\n",
    "- Can call tools or respond directly\n",
    "- Maintains conversation context\n",
    "\n",
    "### 2. High-Level Tools\n",
    "- `suggest_meals`: Generates meal ideas (will use subgraph)\n",
    "- `modify_meal_plan`: Add/remove/update meals\n",
    "- `analyze_meal_plan`: Review current plan\n",
    "- `save_meal_plan`: Persist for later\n",
    "\n",
    "### 3. Subgraphs for Complex Operations\n",
    "- Meal suggestion subgraph handles multi-step meal generation\n",
    "- Can add more subgraphs for nutrition analysis, shopping lists, etc."
   ]
  },
  {
   "cell_type": "code",
   "execution_count": null,
   "metadata": {},
   "outputs": [],
   "source": [
    "# Example interactions\n",
    "from langchain_core.messages import HumanMessage\n",
    "\n",
    "# Test case 1: Open-ended request\n",
    "state1 = {\n",
    "    \"messages\": [HumanMessage(content=\"Help me plan healthy meals for next week\")],\n",
    "    \"current_meal_plan\": {\"breakfast\": [], \"lunch\": [], \"dinner\": []},\n",
    "    \"context\": {}\n",
    "}\n",
    "\n",
    "result1 = agent.invoke(state1)\n",
    "print(\"Agent Response:\")\n",
    "print(result1[\"messages\"][-1].content)"
   ]
  },
  {
   "cell_type": "code",
   "execution_count": null,
   "metadata": {},
   "outputs": [],
   "source": [
    "# Test case 2: Specific meal request\n",
    "state2 = {\n",
    "    \"messages\": [HumanMessage(content=\"I need a high-protein breakfast under 400 calories\")],\n",
    "    \"current_meal_plan\": {\"breakfast\": [], \"lunch\": [], \"dinner\": []},\n",
    "    \"context\": {\"dietary_preferences\": [\"high-protein\"], \"calorie_limit\": 400}\n",
    "}\n",
    "\n",
    "result2 = agent.invoke(state2)\n",
    "print(\"Agent Response:\")\n",
    "print(result2[\"messages\"][-1].content)"
   ]
  },
  {
   "cell_type": "markdown",
   "metadata": {},
   "source": [
    "## Advantages of This Design\n",
    "\n",
    "1. **Natural Conversation Flow**: The agent can handle any type of request without rigid intent classification\n",
    "2. **Contextual Understanding**: Maintains conversation history and user preferences\n",
    "3. **Extensible**: Easy to add new tools and subgraphs\n",
    "4. **LLM-Powered**: Leverages LLM for reasoning, reducing complex logic\n",
    "\n",
    "## Next Steps\n",
    "\n",
    "1. Implement actual LLM calls in the subgraphs\n",
    "2. Add memory/persistence\n",
    "3. Create specialized subgraphs for:\n",
    "   - Nutrition analysis\n",
    "   - Recipe generation\n",
    "   - Shopping list creation\n",
    "4. Add user preference learning"
   ]
  }
 ],
 "metadata": {
  "kernelspec": {
   "display_name": "Python 3",
   "language": "python",
   "name": "python3"
  },
  "language_info": {
   "codemirror_mode": {
    "name": "ipython",
    "version": 3
   },
   "file_extension": ".py",
   "mimetype": "text/x-python",
   "name": "python",
   "nbconvert_exporter": "python",
   "pygments_lexer": "ipython3",
   "version": "3.12.7"
  }
 },
 "nbformat": 4,
 "nbformat_minor": 4
}