{
  "cells": [
    {
      "cell_type": "raw",
      "metadata": {
        "vscode": {
          "languageId": "raw"
        }
      },
      "source": [
        "# Automated Testing Framework for Meal Planning Chatbot\n",
        "\n",
        "This notebook provides an interactive interface for:\n",
        "1. Running automated tests with simulated users\n",
        "2. Analyzing conversation quality and goal achievement\n",
        "3. Identifying improvement opportunities\n",
        "4. Visualizing test results\n"
      ]
    },
    {
      "cell_type": "code",
      "execution_count": null,
      "metadata": {},
      "outputs": [],
      "source": [
        "# Setup and imports\n",
        "import sys\n",
        "sys.path.append('..')\n",
        "\n",
        "import asyncio\n",
        "import pandas as pd\n",
        "import matplotlib.pyplot as plt\n",
        "import seaborn as sns\n",
        "from datetime import datetime\n",
        "import json\n",
        "from typing import Dict, List\n",
        "\n",
        "from src.testing import (\n",
        "    TestRunner,\n",
        "    run_test_scenario,\n",
        "    get_all_scenario_ids,\n",
        "    get_scenario_by_id,\n",
        "    ConversationGoal\n",
        ")\n",
        "\n",
        "# Set up plotting\n",
        "plt.style.use('seaborn-v0_8-darkgrid')\n",
        "%matplotlib inline\n"
      ]
    }
  ],
  "metadata": {
    "language_info": {
      "name": "python"
    }
  },
  "nbformat": 4,
  "nbformat_minor": 2
}
